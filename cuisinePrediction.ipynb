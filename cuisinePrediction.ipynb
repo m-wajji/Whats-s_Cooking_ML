{
 "cells": [
  {
   "cell_type": "markdown",
   "metadata": {},
   "source": [
    "\n",
    "# Exploratory Data Analysis"
   ]
  },
  {
   "cell_type": "code",
   "execution_count": 1,
   "metadata": {},
   "outputs": [],
   "source": [
    "# Importing Libraries\n",
    "\n",
    "import matplotlib.pyplot as plt\n",
    "import numpy as np\n",
    "import pandas as pd\n",
    "import seaborn as sns\n",
    "from sklearn.feature_extraction.text import CountVectorizer\n",
    "from sklearn.model_selection import train_test_split, KFold\n",
    "from sklearn.metrics import classification_report\n",
    "from sklearn.preprocessing import OneHotEncoder, MinMaxScaler\n"
   ]
  },
  {
   "cell_type": "code",
   "execution_count": 2,
   "metadata": {},
   "outputs": [],
   "source": [
    "#Loading Data\n",
    "data= pd.read_json('data.json')"
   ]
  },
  {
   "cell_type": "code",
   "execution_count": 3,
   "metadata": {},
   "outputs": [
    {
     "data": {
      "text/html": [
       "<div>\n",
       "<style scoped>\n",
       "    .dataframe tbody tr th:only-of-type {\n",
       "        vertical-align: middle;\n",
       "    }\n",
       "\n",
       "    .dataframe tbody tr th {\n",
       "        vertical-align: top;\n",
       "    }\n",
       "\n",
       "    .dataframe thead th {\n",
       "        text-align: right;\n",
       "    }\n",
       "</style>\n",
       "<table border=\"1\" class=\"dataframe\">\n",
       "  <thead>\n",
       "    <tr style=\"text-align: right;\">\n",
       "      <th></th>\n",
       "      <th>id</th>\n",
       "      <th>cuisine</th>\n",
       "      <th>ingredients</th>\n",
       "    </tr>\n",
       "  </thead>\n",
       "  <tbody>\n",
       "    <tr>\n",
       "      <th>0</th>\n",
       "      <td>10259</td>\n",
       "      <td>greek</td>\n",
       "      <td>[romaine lettuce, black olives, grape tomatoes...</td>\n",
       "    </tr>\n",
       "    <tr>\n",
       "      <th>1</th>\n",
       "      <td>25693</td>\n",
       "      <td>southern_us</td>\n",
       "      <td>[plain flour, ground pepper, salt, tomatoes, g...</td>\n",
       "    </tr>\n",
       "    <tr>\n",
       "      <th>2</th>\n",
       "      <td>20130</td>\n",
       "      <td>filipino</td>\n",
       "      <td>[eggs, pepper, salt, mayonaise, cooking oil, g...</td>\n",
       "    </tr>\n",
       "    <tr>\n",
       "      <th>3</th>\n",
       "      <td>22213</td>\n",
       "      <td>indian</td>\n",
       "      <td>[water, vegetable oil, wheat, salt]</td>\n",
       "    </tr>\n",
       "    <tr>\n",
       "      <th>4</th>\n",
       "      <td>13162</td>\n",
       "      <td>indian</td>\n",
       "      <td>[black pepper, shallots, cornflour, cayenne pe...</td>\n",
       "    </tr>\n",
       "    <tr>\n",
       "      <th>...</th>\n",
       "      <td>...</td>\n",
       "      <td>...</td>\n",
       "      <td>...</td>\n",
       "    </tr>\n",
       "    <tr>\n",
       "      <th>25998</th>\n",
       "      <td>34253</td>\n",
       "      <td>italian</td>\n",
       "      <td>[wine, lemon, garlic cloves, fresh marjoram, c...</td>\n",
       "    </tr>\n",
       "    <tr>\n",
       "      <th>25999</th>\n",
       "      <td>32565</td>\n",
       "      <td>french</td>\n",
       "      <td>[fresh basil, fennel, fine sea salt, ice, larg...</td>\n",
       "    </tr>\n",
       "    <tr>\n",
       "      <th>26000</th>\n",
       "      <td>16259</td>\n",
       "      <td>chinese</td>\n",
       "      <td>[pepper, ginger, wonton wrappers, salt, green ...</td>\n",
       "    </tr>\n",
       "    <tr>\n",
       "      <th>26001</th>\n",
       "      <td>40328</td>\n",
       "      <td>mexican</td>\n",
       "      <td>[purple onion, vine ripened tomatoes, small wh...</td>\n",
       "    </tr>\n",
       "    <tr>\n",
       "      <th>26002</th>\n",
       "      <td>29335</td>\n",
       "      <td>indian</td>\n",
       "      <td>[curry powder, chicken breasts, apples, cooked...</td>\n",
       "    </tr>\n",
       "  </tbody>\n",
       "</table>\n",
       "<p>26003 rows × 3 columns</p>\n",
       "</div>"
      ],
      "text/plain": [
       "          id      cuisine                                        ingredients\n",
       "0      10259        greek  [romaine lettuce, black olives, grape tomatoes...\n",
       "1      25693  southern_us  [plain flour, ground pepper, salt, tomatoes, g...\n",
       "2      20130     filipino  [eggs, pepper, salt, mayonaise, cooking oil, g...\n",
       "3      22213       indian                [water, vegetable oil, wheat, salt]\n",
       "4      13162       indian  [black pepper, shallots, cornflour, cayenne pe...\n",
       "...      ...          ...                                                ...\n",
       "25998  34253      italian  [wine, lemon, garlic cloves, fresh marjoram, c...\n",
       "25999  32565       french  [fresh basil, fennel, fine sea salt, ice, larg...\n",
       "26000  16259      chinese  [pepper, ginger, wonton wrappers, salt, green ...\n",
       "26001  40328      mexican  [purple onion, vine ripened tomatoes, small wh...\n",
       "26002  29335       indian  [curry powder, chicken breasts, apples, cooked...\n",
       "\n",
       "[26003 rows x 3 columns]"
      ]
     },
     "execution_count": 3,
     "metadata": {},
     "output_type": "execute_result"
    }
   ],
   "source": [
    "data"
   ]
  },
  {
   "cell_type": "code",
   "execution_count": 4,
   "metadata": {},
   "outputs": [
    {
     "data": {
      "text/html": [
       "<div>\n",
       "<style scoped>\n",
       "    .dataframe tbody tr th:only-of-type {\n",
       "        vertical-align: middle;\n",
       "    }\n",
       "\n",
       "    .dataframe tbody tr th {\n",
       "        vertical-align: top;\n",
       "    }\n",
       "\n",
       "    .dataframe thead th {\n",
       "        text-align: right;\n",
       "    }\n",
       "</style>\n",
       "<table border=\"1\" class=\"dataframe\">\n",
       "  <thead>\n",
       "    <tr style=\"text-align: right;\">\n",
       "      <th></th>\n",
       "      <th>id</th>\n",
       "      <th>cuisine</th>\n",
       "      <th>ingredients</th>\n",
       "    </tr>\n",
       "  </thead>\n",
       "  <tbody>\n",
       "    <tr>\n",
       "      <th>0</th>\n",
       "      <td>10259</td>\n",
       "      <td>greek</td>\n",
       "      <td>[romaine lettuce, black olives, grape tomatoes...</td>\n",
       "    </tr>\n",
       "    <tr>\n",
       "      <th>1</th>\n",
       "      <td>25693</td>\n",
       "      <td>southern_us</td>\n",
       "      <td>[plain flour, ground pepper, salt, tomatoes, g...</td>\n",
       "    </tr>\n",
       "    <tr>\n",
       "      <th>2</th>\n",
       "      <td>20130</td>\n",
       "      <td>filipino</td>\n",
       "      <td>[eggs, pepper, salt, mayonaise, cooking oil, g...</td>\n",
       "    </tr>\n",
       "    <tr>\n",
       "      <th>3</th>\n",
       "      <td>22213</td>\n",
       "      <td>indian</td>\n",
       "      <td>[water, vegetable oil, wheat, salt]</td>\n",
       "    </tr>\n",
       "    <tr>\n",
       "      <th>4</th>\n",
       "      <td>13162</td>\n",
       "      <td>indian</td>\n",
       "      <td>[black pepper, shallots, cornflour, cayenne pe...</td>\n",
       "    </tr>\n",
       "  </tbody>\n",
       "</table>\n",
       "</div>"
      ],
      "text/plain": [
       "      id      cuisine                                        ingredients\n",
       "0  10259        greek  [romaine lettuce, black olives, grape tomatoes...\n",
       "1  25693  southern_us  [plain flour, ground pepper, salt, tomatoes, g...\n",
       "2  20130     filipino  [eggs, pepper, salt, mayonaise, cooking oil, g...\n",
       "3  22213       indian                [water, vegetable oil, wheat, salt]\n",
       "4  13162       indian  [black pepper, shallots, cornflour, cayenne pe..."
      ]
     },
     "execution_count": 4,
     "metadata": {},
     "output_type": "execute_result"
    }
   ],
   "source": [
    "\n",
    "data.head()"
   ]
  },
  {
   "cell_type": "code",
   "execution_count": 5,
   "metadata": {},
   "outputs": [
    {
     "data": {
      "text/html": [
       "<div>\n",
       "<style scoped>\n",
       "    .dataframe tbody tr th:only-of-type {\n",
       "        vertical-align: middle;\n",
       "    }\n",
       "\n",
       "    .dataframe tbody tr th {\n",
       "        vertical-align: top;\n",
       "    }\n",
       "\n",
       "    .dataframe thead th {\n",
       "        text-align: right;\n",
       "    }\n",
       "</style>\n",
       "<table border=\"1\" class=\"dataframe\">\n",
       "  <thead>\n",
       "    <tr style=\"text-align: right;\">\n",
       "      <th></th>\n",
       "      <th>id</th>\n",
       "    </tr>\n",
       "  </thead>\n",
       "  <tbody>\n",
       "    <tr>\n",
       "      <th>count</th>\n",
       "      <td>26003.000000</td>\n",
       "    </tr>\n",
       "    <tr>\n",
       "      <th>mean</th>\n",
       "      <td>24871.213283</td>\n",
       "    </tr>\n",
       "    <tr>\n",
       "      <th>std</th>\n",
       "      <td>14361.720487</td>\n",
       "    </tr>\n",
       "    <tr>\n",
       "      <th>min</th>\n",
       "      <td>1.000000</td>\n",
       "    </tr>\n",
       "    <tr>\n",
       "      <th>25%</th>\n",
       "      <td>12362.000000</td>\n",
       "    </tr>\n",
       "    <tr>\n",
       "      <th>50%</th>\n",
       "      <td>24980.000000</td>\n",
       "    </tr>\n",
       "    <tr>\n",
       "      <th>75%</th>\n",
       "      <td>37356.500000</td>\n",
       "    </tr>\n",
       "    <tr>\n",
       "      <th>max</th>\n",
       "      <td>49716.000000</td>\n",
       "    </tr>\n",
       "  </tbody>\n",
       "</table>\n",
       "</div>"
      ],
      "text/plain": [
       "                 id\n",
       "count  26003.000000\n",
       "mean   24871.213283\n",
       "std    14361.720487\n",
       "min        1.000000\n",
       "25%    12362.000000\n",
       "50%    24980.000000\n",
       "75%    37356.500000\n",
       "max    49716.000000"
      ]
     },
     "execution_count": 5,
     "metadata": {},
     "output_type": "execute_result"
    }
   ],
   "source": [
    "#describe method will only works for integer data\n",
    "data.describe()"
   ]
  },
  {
   "cell_type": "code",
   "execution_count": 6,
   "metadata": {},
   "outputs": [
    {
     "data": {
      "text/plain": [
       "cuisine\n",
       "italian         5129\n",
       "mexican         4193\n",
       "southern_us     2865\n",
       "indian          1945\n",
       "chinese         1728\n",
       "french          1715\n",
       "thai            1015\n",
       "cajun_creole     988\n",
       "japanese         941\n",
       "greek            759\n",
       "spanish          666\n",
       "vietnamese       544\n",
       "korean           542\n",
       "moroccan         534\n",
       "british          525\n",
       "filipino         492\n",
       "irish            433\n",
       "jamaican         353\n",
       "russian          336\n",
       "brazilian        300\n",
       "Name: count, dtype: int64"
      ]
     },
     "execution_count": 6,
     "metadata": {},
     "output_type": "execute_result"
    }
   ],
   "source": [
    "data['cuisine'].value_counts()"
   ]
  },
  {
   "cell_type": "code",
   "execution_count": 7,
   "metadata": {},
   "outputs": [
    {
     "name": "stdout",
     "output_type": "stream",
     "text": [
      "Number of cuisine categories: 20\n"
     ]
    },
    {
     "data": {
      "text/plain": [
       "array(['greek', 'southern_us', 'filipino', 'indian', 'jamaican',\n",
       "       'spanish', 'italian', 'mexican', 'chinese', 'british', 'thai',\n",
       "       'vietnamese', 'cajun_creole', 'brazilian', 'french', 'japanese',\n",
       "       'irish', 'korean', 'moroccan', 'russian'], dtype=object)"
      ]
     },
     "execution_count": 7,
     "metadata": {},
     "output_type": "execute_result"
    }
   ],
   "source": [
    "print(\"Number of cuisine categories: {}\".format(len(data.cuisine.unique())))\n",
    "data['cuisine'].unique()"
   ]
  },
  {
   "cell_type": "code",
   "execution_count": 8,
   "metadata": {},
   "outputs": [
    {
     "name": "stdout",
     "output_type": "stream",
     "text": [
      "<class 'pandas.core.frame.DataFrame'>\n",
      "RangeIndex: 26003 entries, 0 to 26002\n",
      "Data columns (total 3 columns):\n",
      " #   Column       Non-Null Count  Dtype \n",
      "---  ------       --------------  ----- \n",
      " 0   id           26003 non-null  int64 \n",
      " 1   cuisine      26003 non-null  object\n",
      " 2   ingredients  26003 non-null  object\n",
      "dtypes: int64(1), object(2)\n",
      "memory usage: 609.6+ KB\n"
     ]
    }
   ],
   "source": [
    "data.info()"
   ]
  },
  {
   "cell_type": "code",
   "execution_count": 9,
   "metadata": {},
   "outputs": [
    {
     "name": "stdout",
     "output_type": "stream",
     "text": [
      "Maximum Number of Ingredients in a Dish:  65\n",
      "Minimum Number of Ingredients in a Dish:  1\n"
     ]
    }
   ],
   "source": [
    "print('Maximum Number of Ingredients in a Dish: ',data['ingredients'].str.len().max())\n",
    "print('Minimum Number of Ingredients in a Dish: ',data['ingredients'].str.len().min())"
   ]
  },
  {
   "cell_type": "code",
   "execution_count": 10,
   "metadata": {},
   "outputs": [
    {
     "data": {
      "text/plain": [
       "Text(0.5, 1.0, 'Total Number of recipes per cuisine')"
      ]
     },
     "execution_count": 10,
     "metadata": {},
     "output_type": "execute_result"
    },
    {
     "data": {
      "image/png": "[encoded data removed]",
      "text/plain": [
       "<Figure size 1000x1000 with 1 Axes>"
      ]
     },
     "metadata": {},
     "output_type": "display_data"
    }
   ],
   "source": [
    "plt.figure(figsize=(10,10))\n",
    "graph = data['cuisine'].value_counts().plot(kind='bar', rot=90, fontsize=10)\n",
    "\n",
    "\n",
    "graph.set_xlabel('Cuisines', fontsize=15, color='blue')\n",
    "graph.set_ylabel('Number of recipes', fontsize=15, color='blue')\n",
    "graph.set_title('Total Number of recipes per cuisine', fontsize=20, color='blue')"
   ]
  },
  {
   "cell_type": "code",
   "execution_count": 11,
   "metadata": {},
   "outputs": [
    {
     "data": {
      "text/plain": [
       "Text(0.5, 1.0, 'Ingredients in a Dish Distribution')"
      ]
     },
     "execution_count": 11,
     "metadata": {},
     "output_type": "execute_result"
    },
    {
     "data": {
      "image/png": "[encoded data removed]",
      "text/plain": [
       "<Figure size 1600x800 with 1 Axes>"
      ]
     },
     "metadata": {},
     "output_type": "display_data"
    }
   ],
   "source": [
    "# The distribution of recipe length\n",
    "plt.hist(data['ingredients'].str.len(),bins=max(data['ingredients'].str.len()),edgecolor='b')\n",
    "plt.gcf().set_size_inches(16,8)\n",
    "plt.title('Ingredients in a Dish Distribution')"
   ]
  },
  {
   "cell_type": "code",
   "execution_count": 12,
   "metadata": {},
   "outputs": [
    {
     "data": {
      "text/plain": [
       "Text(0.5, 1.0, 'Cuisine Distribution')"
      ]
     },
     "execution_count": 12,
     "metadata": {},
     "output_type": "execute_result"
    },
    {
     "data": {
      "image/png": "[encoded data removed]",
      "text/plain": [
       "<Figure size 1500x1000 with 1 Axes>"
      ]
     },
     "metadata": {},
     "output_type": "display_data"
    }
   ],
   "source": [
    "sns.countplot(y='cuisine', data=data,palette=sns.color_palette('inferno',20),hue='cuisine', dodge=False)\n",
    "plt.legend([],[], frameon=False)\n",
    "plt.gcf().set_size_inches(15,10)\n",
    "plt.title('Cuisine Distribution',size=20)"
   ]
  },
  {
   "cell_type": "code",
   "execution_count": 13,
   "metadata": {},
   "outputs": [
    {
     "data": {
      "text/html": [
       "<div>\n",
       "<style scoped>\n",
       "    .dataframe tbody tr th:only-of-type {\n",
       "        vertical-align: middle;\n",
       "    }\n",
       "\n",
       "    .dataframe tbody tr th {\n",
       "        vertical-align: top;\n",
       "    }\n",
       "\n",
       "    .dataframe thead th {\n",
       "        text-align: right;\n",
       "    }\n",
       "</style>\n",
       "<table border=\"1\" class=\"dataframe\">\n",
       "  <thead>\n",
       "    <tr style=\"text-align: right;\">\n",
       "      <th></th>\n",
       "      <th>id</th>\n",
       "      <th>cuisine</th>\n",
       "      <th>ingredients</th>\n",
       "    </tr>\n",
       "  </thead>\n",
       "  <tbody>\n",
       "    <tr>\n",
       "      <th>0</th>\n",
       "      <td>True</td>\n",
       "      <td>True</td>\n",
       "      <td>True</td>\n",
       "    </tr>\n",
       "    <tr>\n",
       "      <th>1</th>\n",
       "      <td>True</td>\n",
       "      <td>True</td>\n",
       "      <td>True</td>\n",
       "    </tr>\n",
       "    <tr>\n",
       "      <th>2</th>\n",
       "      <td>True</td>\n",
       "      <td>True</td>\n",
       "      <td>True</td>\n",
       "    </tr>\n",
       "    <tr>\n",
       "      <th>3</th>\n",
       "      <td>True</td>\n",
       "      <td>True</td>\n",
       "      <td>True</td>\n",
       "    </tr>\n",
       "    <tr>\n",
       "      <th>4</th>\n",
       "      <td>True</td>\n",
       "      <td>True</td>\n",
       "      <td>True</td>\n",
       "    </tr>\n",
       "    <tr>\n",
       "      <th>...</th>\n",
       "      <td>...</td>\n",
       "      <td>...</td>\n",
       "      <td>...</td>\n",
       "    </tr>\n",
       "    <tr>\n",
       "      <th>25998</th>\n",
       "      <td>True</td>\n",
       "      <td>True</td>\n",
       "      <td>True</td>\n",
       "    </tr>\n",
       "    <tr>\n",
       "      <th>25999</th>\n",
       "      <td>True</td>\n",
       "      <td>True</td>\n",
       "      <td>True</td>\n",
       "    </tr>\n",
       "    <tr>\n",
       "      <th>26000</th>\n",
       "      <td>True</td>\n",
       "      <td>True</td>\n",
       "      <td>True</td>\n",
       "    </tr>\n",
       "    <tr>\n",
       "      <th>26001</th>\n",
       "      <td>True</td>\n",
       "      <td>True</td>\n",
       "      <td>True</td>\n",
       "    </tr>\n",
       "    <tr>\n",
       "      <th>26002</th>\n",
       "      <td>True</td>\n",
       "      <td>True</td>\n",
       "      <td>True</td>\n",
       "    </tr>\n",
       "  </tbody>\n",
       "</table>\n",
       "<p>26003 rows × 3 columns</p>\n",
       "</div>"
      ],
      "text/plain": [
       "         id  cuisine  ingredients\n",
       "0      True     True         True\n",
       "1      True     True         True\n",
       "2      True     True         True\n",
       "3      True     True         True\n",
       "4      True     True         True\n",
       "...     ...      ...          ...\n",
       "25998  True     True         True\n",
       "25999  True     True         True\n",
       "26000  True     True         True\n",
       "26001  True     True         True\n",
       "26002  True     True         True\n",
       "\n",
       "[26003 rows x 3 columns]"
      ]
     },
     "execution_count": 13,
     "metadata": {},
     "output_type": "execute_result"
    }
   ],
   "source": [
    "data.notnull()"
   ]
  },
  {
   "cell_type": "markdown",
   "metadata": {},
   "source": [
    "# Data Pre-Processing"
   ]
  },
  {
   "cell_type": "code",
   "execution_count": 14,
   "metadata": {},
   "outputs": [],
   "source": [
    "#Data To Vector_Class \n",
    "\n",
    "class DataToVec():\n",
    "    def __init__(self, data):\n",
    "        self.data = self.datacleaning(data)\n",
    "    \n",
    "    def datacleaning(self, data):\n",
    "        df = data\n",
    "        df['ingredients'] = [' '.join(map(str, l)) for l in df['ingredients']]\n",
    "        return self.preprocessing(df)\n",
    "    \n",
    "    def preprocessing(self, df):\n",
    "        # Tokenization\n",
    "        cv = CountVectorizer()\n",
    "        X = cv.fit_transform(df['ingredients'])\n",
    "\n",
    "        data = pd.DataFrame(X.toarray(), columns= cv.get_feature_names_out())\n",
    "        data.drop([col for col, val in data.sum().items() if int(val)<=10 or col.isnumeric()], axis=1, inplace=True)\n",
    "        data['label'] = df['cuisine']\n",
    "       \n",
    "        return data"
   ]
  },
  {
   "cell_type": "code",
   "execution_count": 15,
   "metadata": {},
   "outputs": [
    {
     "data": {
      "text/html": [
       "<div>\n",
       "<style scoped>\n",
       "    .dataframe tbody tr th:only-of-type {\n",
       "        vertical-align: middle;\n",
       "    }\n",
       "\n",
       "    .dataframe tbody tr th {\n",
       "        vertical-align: top;\n",
       "    }\n",
       "\n",
       "    .dataframe thead th {\n",
       "        text-align: right;\n",
       "    }\n",
       "</style>\n",
       "<table border=\"1\" class=\"dataframe\">\n",
       "  <thead>\n",
       "    <tr style=\"text-align: right;\">\n",
       "      <th></th>\n",
       "      <th>achiote</th>\n",
       "      <th>acting</th>\n",
       "      <th>active</th>\n",
       "      <th>added</th>\n",
       "      <th>adobo</th>\n",
       "      <th>agave</th>\n",
       "      <th>aged</th>\n",
       "      <th>ajwain</th>\n",
       "      <th>ale</th>\n",
       "      <th>alfredo</th>\n",
       "      <th>...</th>\n",
       "      <th>yoghurt</th>\n",
       "      <th>yogurt</th>\n",
       "      <th>yolks</th>\n",
       "      <th>york</th>\n",
       "      <th>yukon</th>\n",
       "      <th>zest</th>\n",
       "      <th>zesty</th>\n",
       "      <th>ziti</th>\n",
       "      <th>zucchini</th>\n",
       "      <th>label</th>\n",
       "    </tr>\n",
       "  </thead>\n",
       "  <tbody>\n",
       "    <tr>\n",
       "      <th>0</th>\n",
       "      <td>0</td>\n",
       "      <td>0</td>\n",
       "      <td>0</td>\n",
       "      <td>0</td>\n",
       "      <td>0</td>\n",
       "      <td>0</td>\n",
       "      <td>0</td>\n",
       "      <td>0</td>\n",
       "      <td>0</td>\n",
       "      <td>0</td>\n",
       "      <td>...</td>\n",
       "      <td>0</td>\n",
       "      <td>0</td>\n",
       "      <td>0</td>\n",
       "      <td>0</td>\n",
       "      <td>0</td>\n",
       "      <td>0</td>\n",
       "      <td>0</td>\n",
       "      <td>0</td>\n",
       "      <td>0</td>\n",
       "      <td>greek</td>\n",
       "    </tr>\n",
       "    <tr>\n",
       "      <th>1</th>\n",
       "      <td>0</td>\n",
       "      <td>0</td>\n",
       "      <td>0</td>\n",
       "      <td>0</td>\n",
       "      <td>0</td>\n",
       "      <td>0</td>\n",
       "      <td>0</td>\n",
       "      <td>0</td>\n",
       "      <td>0</td>\n",
       "      <td>0</td>\n",
       "      <td>...</td>\n",
       "      <td>0</td>\n",
       "      <td>0</td>\n",
       "      <td>0</td>\n",
       "      <td>0</td>\n",
       "      <td>0</td>\n",
       "      <td>0</td>\n",
       "      <td>0</td>\n",
       "      <td>0</td>\n",
       "      <td>0</td>\n",
       "      <td>southern_us</td>\n",
       "    </tr>\n",
       "    <tr>\n",
       "      <th>2</th>\n",
       "      <td>0</td>\n",
       "      <td>0</td>\n",
       "      <td>0</td>\n",
       "      <td>0</td>\n",
       "      <td>0</td>\n",
       "      <td>0</td>\n",
       "      <td>0</td>\n",
       "      <td>0</td>\n",
       "      <td>0</td>\n",
       "      <td>0</td>\n",
       "      <td>...</td>\n",
       "      <td>0</td>\n",
       "      <td>0</td>\n",
       "      <td>0</td>\n",
       "      <td>0</td>\n",
       "      <td>0</td>\n",
       "      <td>0</td>\n",
       "      <td>0</td>\n",
       "      <td>0</td>\n",
       "      <td>0</td>\n",
       "      <td>filipino</td>\n",
       "    </tr>\n",
       "    <tr>\n",
       "      <th>3</th>\n",
       "      <td>0</td>\n",
       "      <td>0</td>\n",
       "      <td>0</td>\n",
       "      <td>0</td>\n",
       "      <td>0</td>\n",
       "      <td>0</td>\n",
       "      <td>0</td>\n",
       "      <td>0</td>\n",
       "      <td>0</td>\n",
       "      <td>0</td>\n",
       "      <td>...</td>\n",
       "      <td>0</td>\n",
       "      <td>0</td>\n",
       "      <td>0</td>\n",
       "      <td>0</td>\n",
       "      <td>0</td>\n",
       "      <td>0</td>\n",
       "      <td>0</td>\n",
       "      <td>0</td>\n",
       "      <td>0</td>\n",
       "      <td>indian</td>\n",
       "    </tr>\n",
       "    <tr>\n",
       "      <th>4</th>\n",
       "      <td>0</td>\n",
       "      <td>0</td>\n",
       "      <td>0</td>\n",
       "      <td>0</td>\n",
       "      <td>0</td>\n",
       "      <td>0</td>\n",
       "      <td>0</td>\n",
       "      <td>0</td>\n",
       "      <td>0</td>\n",
       "      <td>0</td>\n",
       "      <td>...</td>\n",
       "      <td>0</td>\n",
       "      <td>1</td>\n",
       "      <td>0</td>\n",
       "      <td>0</td>\n",
       "      <td>0</td>\n",
       "      <td>0</td>\n",
       "      <td>0</td>\n",
       "      <td>0</td>\n",
       "      <td>0</td>\n",
       "      <td>indian</td>\n",
       "    </tr>\n",
       "    <tr>\n",
       "      <th>...</th>\n",
       "      <td>...</td>\n",
       "      <td>...</td>\n",
       "      <td>...</td>\n",
       "      <td>...</td>\n",
       "      <td>...</td>\n",
       "      <td>...</td>\n",
       "      <td>...</td>\n",
       "      <td>...</td>\n",
       "      <td>...</td>\n",
       "      <td>...</td>\n",
       "      <td>...</td>\n",
       "      <td>...</td>\n",
       "      <td>...</td>\n",
       "      <td>...</td>\n",
       "      <td>...</td>\n",
       "      <td>...</td>\n",
       "      <td>...</td>\n",
       "      <td>...</td>\n",
       "      <td>...</td>\n",
       "      <td>...</td>\n",
       "      <td>...</td>\n",
       "    </tr>\n",
       "    <tr>\n",
       "      <th>25998</th>\n",
       "      <td>0</td>\n",
       "      <td>0</td>\n",
       "      <td>0</td>\n",
       "      <td>0</td>\n",
       "      <td>0</td>\n",
       "      <td>0</td>\n",
       "      <td>0</td>\n",
       "      <td>0</td>\n",
       "      <td>0</td>\n",
       "      <td>0</td>\n",
       "      <td>...</td>\n",
       "      <td>0</td>\n",
       "      <td>0</td>\n",
       "      <td>0</td>\n",
       "      <td>0</td>\n",
       "      <td>0</td>\n",
       "      <td>0</td>\n",
       "      <td>0</td>\n",
       "      <td>0</td>\n",
       "      <td>0</td>\n",
       "      <td>italian</td>\n",
       "    </tr>\n",
       "    <tr>\n",
       "      <th>25999</th>\n",
       "      <td>0</td>\n",
       "      <td>0</td>\n",
       "      <td>0</td>\n",
       "      <td>0</td>\n",
       "      <td>0</td>\n",
       "      <td>0</td>\n",
       "      <td>0</td>\n",
       "      <td>0</td>\n",
       "      <td>0</td>\n",
       "      <td>0</td>\n",
       "      <td>...</td>\n",
       "      <td>0</td>\n",
       "      <td>0</td>\n",
       "      <td>0</td>\n",
       "      <td>0</td>\n",
       "      <td>0</td>\n",
       "      <td>0</td>\n",
       "      <td>0</td>\n",
       "      <td>0</td>\n",
       "      <td>0</td>\n",
       "      <td>french</td>\n",
       "    </tr>\n",
       "    <tr>\n",
       "      <th>26000</th>\n",
       "      <td>0</td>\n",
       "      <td>0</td>\n",
       "      <td>0</td>\n",
       "      <td>0</td>\n",
       "      <td>0</td>\n",
       "      <td>0</td>\n",
       "      <td>0</td>\n",
       "      <td>0</td>\n",
       "      <td>0</td>\n",
       "      <td>0</td>\n",
       "      <td>...</td>\n",
       "      <td>0</td>\n",
       "      <td>0</td>\n",
       "      <td>0</td>\n",
       "      <td>0</td>\n",
       "      <td>0</td>\n",
       "      <td>0</td>\n",
       "      <td>0</td>\n",
       "      <td>0</td>\n",
       "      <td>0</td>\n",
       "      <td>chinese</td>\n",
       "    </tr>\n",
       "    <tr>\n",
       "      <th>26001</th>\n",
       "      <td>0</td>\n",
       "      <td>0</td>\n",
       "      <td>0</td>\n",
       "      <td>0</td>\n",
       "      <td>0</td>\n",
       "      <td>0</td>\n",
       "      <td>0</td>\n",
       "      <td>0</td>\n",
       "      <td>0</td>\n",
       "      <td>0</td>\n",
       "      <td>...</td>\n",
       "      <td>0</td>\n",
       "      <td>0</td>\n",
       "      <td>0</td>\n",
       "      <td>0</td>\n",
       "      <td>0</td>\n",
       "      <td>0</td>\n",
       "      <td>0</td>\n",
       "      <td>0</td>\n",
       "      <td>0</td>\n",
       "      <td>mexican</td>\n",
       "    </tr>\n",
       "    <tr>\n",
       "      <th>26002</th>\n",
       "      <td>0</td>\n",
       "      <td>0</td>\n",
       "      <td>0</td>\n",
       "      <td>0</td>\n",
       "      <td>0</td>\n",
       "      <td>0</td>\n",
       "      <td>0</td>\n",
       "      <td>0</td>\n",
       "      <td>0</td>\n",
       "      <td>0</td>\n",
       "      <td>...</td>\n",
       "      <td>0</td>\n",
       "      <td>0</td>\n",
       "      <td>0</td>\n",
       "      <td>0</td>\n",
       "      <td>0</td>\n",
       "      <td>0</td>\n",
       "      <td>0</td>\n",
       "      <td>0</td>\n",
       "      <td>0</td>\n",
       "      <td>indian</td>\n",
       "    </tr>\n",
       "  </tbody>\n",
       "</table>\n",
       "<p>26003 rows × 1263 columns</p>\n",
       "</div>"
      ],
      "text/plain": [
       "       achiote  acting  active  added  adobo  agave  aged  ajwain  ale  \\\n",
       "0            0       0       0      0      0      0     0       0    0   \n",
       "1            0       0       0      0      0      0     0       0    0   \n",
       "2            0       0       0      0      0      0     0       0    0   \n",
       "3            0       0       0      0      0      0     0       0    0   \n",
       "4            0       0       0      0      0      0     0       0    0   \n",
       "...        ...     ...     ...    ...    ...    ...   ...     ...  ...   \n",
       "25998        0       0       0      0      0      0     0       0    0   \n",
       "25999        0       0       0      0      0      0     0       0    0   \n",
       "26000        0       0       0      0      0      0     0       0    0   \n",
       "26001        0       0       0      0      0      0     0       0    0   \n",
       "26002        0       0       0      0      0      0     0       0    0   \n",
       "\n",
       "       alfredo  ...  yoghurt  yogurt  yolks  york  yukon  zest  zesty  ziti  \\\n",
       "0            0  ...        0       0      0     0      0     0      0     0   \n",
       "1            0  ...        0       0      0     0      0     0      0     0   \n",
       "2            0  ...        0       0      0     0      0     0      0     0   \n",
       "3            0  ...        0       0      0     0      0     0      0     0   \n",
       "4            0  ...        0       1      0     0      0     0      0     0   \n",
       "...        ...  ...      ...     ...    ...   ...    ...   ...    ...   ...   \n",
       "25998        0  ...        0       0      0     0      0     0      0     0   \n",
       "25999        0  ...        0       0      0     0      0     0      0     0   \n",
       "26000        0  ...        0       0      0     0      0     0      0     0   \n",
       "26001        0  ...        0       0      0     0      0     0      0     0   \n",
       "26002        0  ...        0       0      0     0      0     0      0     0   \n",
       "\n",
       "       zucchini        label  \n",
       "0             0        greek  \n",
       "1             0  southern_us  \n",
       "2             0     filipino  \n",
       "3             0       indian  \n",
       "4             0       indian  \n",
       "...         ...          ...  \n",
       "25998         0      italian  \n",
       "25999         0       french  \n",
       "26000         0      chinese  \n",
       "26001         0      mexican  \n",
       "26002         0       indian  \n",
       "\n",
       "[26003 rows x 1263 columns]"
      ]
     },
     "execution_count": 15,
     "metadata": {},
     "output_type": "execute_result"
    }
   ],
   "source": [
    "obj = DataToVec(data)\n",
    "obj.data"
   ]
  },
  {
   "cell_type": "markdown",
   "metadata": {},
   "source": [
    "## Train Test Split"
   ]
  },
  {
   "cell_type": "code",
   "execution_count": 16,
   "metadata": {},
   "outputs": [],
   "source": [
    "shuffled_data = obj.data"
   ]
  },
  {
   "cell_type": "code",
   "execution_count": 65,
   "metadata": {},
   "outputs": [],
   "source": [
    "shuffled_data = shuffled_data.sample(frac=1, random_state=42)\n",
    "shuffled_data = pd.DataFrame(shuffled_data, columns=shuffled_data.columns)\n",
    "\n",
    "X = shuffled_data.loc[:, shuffled_data.columns != 'label']\n",
    "y = shuffled_data['label']\n",
    "\n",
    "# Splitting the data into training and testing sets\n",
    "X_train_forLib, X_test_forLib, y_train_forLib, y_test_forLib = train_test_split(X, y, test_size=0.2, stratify=y, random_state=42)\n",
    "\n",
    "# OneHot encode the labels\n",
    "oneHot_encoder = OneHotEncoder(sparse_output=False)\n",
    "y_oneHot = oneHot_encoder.fit_transform(y.to_numpy().reshape(-1,1))\n",
    "\n",
    "\n"
   ]
  },
  {
   "cell_type": "code",
   "execution_count": 69,
   "metadata": {},
   "outputs": [],
   "source": [
    "scaler = MinMaxScaler()\n",
    "\n",
    "X_train_scaled_forLib = scaler.fit_transform(X_train_forLib)\n",
    "X_test_scaled_forLib = scaler.transform(X_test_forLib)"
   ]
  },
  {
   "cell_type": "code",
   "execution_count": 67,
   "metadata": {},
   "outputs": [
    {
     "data": {
      "text/plain": [
       "(20802, 1262)"
      ]
     },
     "execution_count": 67,
     "metadata": {},
     "output_type": "execute_result"
    }
   ],
   "source": [
    "X_train_forLib.shape"
   ]
  },
  {
   "cell_type": "code",
   "execution_count": 68,
   "metadata": {},
   "outputs": [
    {
     "data": {
      "text/plain": [
       "(20802,)"
      ]
     },
     "execution_count": 68,
     "metadata": {},
     "output_type": "execute_result"
    }
   ],
   "source": [
    "y_train_forLib.shape"
   ]
  },
  {
   "cell_type": "markdown",
   "metadata": {},
   "source": [
    "# Modeling"
   ]
  },
  {
   "cell_type": "markdown",
   "metadata": {},
   "source": [
    "### Logistic Regression - Multinomial"
   ]
  },
  {
   "cell_type": "markdown",
   "metadata": {},
   "source": [
    "#### Self"
   ]
  },
  {
   "cell_type": "code",
   "execution_count": 55,
   "metadata": {},
   "outputs": [],
   "source": [
    "class LogisticRegression_self:\n",
    "  def __init__(self, l2_reg=0.01, lr=0.01, max_iter=1000):\n",
    "    self.loss_step = None\n",
    "    self.w = None\n",
    "    self.b = None\n",
    "    self.l2_reg = l2_reg\n",
    "    self.lr = lr\n",
    "    self.max_iter = max_iter\n",
    "\n",
    "  def fit(self, X, y_oneHot):\n",
    "    self.loss_step, self.w, self.b = self.gradient_descent(X, y_oneHot)\n",
    "  \n",
    "  def loss_plot(self):\n",
    "    plt.figure()\n",
    "    plt.plot(self.loss_step['step'], self.loss_step['loss'])\n",
    "    plt.xlabel('Step')\n",
    "    plt.ylabel('Loss')\n",
    "    plt.title('Loss over iterations')\n",
    "    plt.show()\n",
    "\n",
    "  \n",
    "  def predict(self, X):\n",
    "    self.z = np.dot(X, self.w) + self.b\n",
    "    p = self._softmax(self.z)\n",
    "    return np.argmax(p, axis=1)\n",
    "\n",
    "  def cross_entropy_loss(self, y):\n",
    "    # probabilities corresponding to the true labels\n",
    "    softmax_clipped = np.clip(self.p, 1e-7, 1-1e-7)\n",
    "    correct_class_probs = softmax_clipped[np.arange(len(y)), np.argmax(y, axis=1)]\n",
    "\n",
    "    # L2 regularization term\n",
    "    l2_term = 0.5 * self.l2_reg * np.sum(self.w ** 2)\n",
    "    loss = np.mean(-np.log(correct_class_probs)) + l2_term\n",
    "    return loss\n",
    "  \n",
    "  def gradient(self, X, y_oneHot):\n",
    "    self.z = np.dot(X, self.w) + self.b\n",
    "    self.p = self._softmax(self.z)\n",
    "\n",
    "    gd_w = np.dot(X.T, (self.p - y_oneHot)) / X.shape[0] + self.l2_reg * self.w / X.shape[0]\n",
    "    gd_b = np.sum(self.p - y_oneHot, axis=0) / X.shape[0]\n",
    "\n",
    "    return gd_w, gd_b\n",
    "  \n",
    "  def gradient_descent(self, X, y_oneHot):\n",
    "    self.w = np.random.normal(0, 0.1, (X.shape[1], y_oneHot.shape[1]))  # Xavier initialization for weight\n",
    "    self.b = np.zeros((1, y_oneHot.shape[1]))\n",
    "    step = 0\n",
    "    final_step = []\n",
    "    final_loss = []\n",
    "\n",
    "    while step < self.max_iter:\n",
    "      step += 1\n",
    "      gd_w, gd_b = self.gradient(X,y_oneHot)\n",
    "      self.w -= self.lr * gd_w\n",
    "      self.b -= self.lr * gd_b\n",
    "      if step % 100 == 0 or step == 1:\n",
    "        loss = self.cross_entropy_loss(y_oneHot)\n",
    "        final_step.append(step)\n",
    "        final_loss.append(loss)\n",
    "        # print(f\"Step {step}, Loss: {loss}\")\n",
    "\n",
    "    df = pd.DataFrame({\n",
    "      'step' : final_step,\n",
    "      'loss' : final_loss\n",
    "    })\n",
    "\n",
    "    return df, self.w, self.b\n",
    "\n",
    "  def _softmax(self, z):\n",
    "    exp_z = np.exp(z - np.max(z, axis=1, keepdims=True))\n",
    "    return exp_z / np.sum(exp_z, axis=1, keepdims=True)\n",
    "   \n",
    "  def accuracy(self, X, y):\n",
    "        y_pred = self.predict(X)\n",
    "        y_true = np.argmax(y, axis=1)\n",
    "        accuracy = np.mean(y_pred == y_true)\n",
    "        return accuracy"
   ]
  },
  {
   "cell_type": "code",
   "execution_count": 94,
   "metadata": {},
   "outputs": [
    {
     "name": "stdout",
     "output_type": "stream",
     "text": [
      "Fold 1\n"
     ]
    },
    {
     "data": {
      "image/png": "[encoded data removed]",
      "text/plain": [
       "<Figure size 640x480 with 1 Axes>"
      ]
     },
     "metadata": {},
     "output_type": "display_data"
    },
    {
     "name": "stdout",
     "output_type": "stream",
     "text": [
      "Training Accuracy: 73.77%\n",
      "Validation Accuracy: 69.87%\n",
      "Test Accuracy: 71.00%\n",
      "Fold 2\n"
     ]
    },
    {
     "data": {
      "image/png": "[encoded data removed]",
      "text/plain": [
       "<Figure size 640x480 with 1 Axes>"
      ]
     },
     "metadata": {},
     "output_type": "display_data"
    },
    {
     "name": "stdout",
     "output_type": "stream",
     "text": [
      "Training Accuracy: 73.61%\n",
      "Validation Accuracy: 70.32%\n",
      "Test Accuracy: 72.41%\n",
      "Fold 3\n"
     ]
    },
    {
     "data": {
      "image/png": "[encoded data removed]",
      "text/plain": [
       "<Figure size 640x480 with 1 Axes>"
      ]
     },
     "metadata": {},
     "output_type": "display_data"
    },
    {
     "name": "stdout",
     "output_type": "stream",
     "text": [
      "Training Accuracy: 73.46%\n",
      "Validation Accuracy: 70.48%\n",
      "Test Accuracy: 70.01%\n",
      "Fold 4\n"
     ]
    },
    {
     "data": {
      "image/png": "[encoded data removed]",
      "text/plain": [
       "<Figure size 640x480 with 1 Axes>"
      ]
     },
     "metadata": {},
     "output_type": "display_data"
    },
    {
     "name": "stdout",
     "output_type": "stream",
     "text": [
      "Training Accuracy: 74.00%\n",
      "Validation Accuracy: 70.29%\n",
      "Test Accuracy: 71.48%\n",
      "Fold 5\n"
     ]
    },
    {
     "data": {
      "image/png": "[encoded data removed]",
      "text/plain": [
       "<Figure size 640x480 with 1 Axes>"
      ]
     },
     "metadata": {},
     "output_type": "display_data"
    },
    {
     "name": "stdout",
     "output_type": "stream",
     "text": [
      "Training Accuracy: 73.53%\n",
      "Validation Accuracy: 70.96%\n",
      "Test Accuracy: 71.13%\n"
     ]
    }
   ],
   "source": [
    "\n",
    "# Initializing KFold\n",
    "kf = KFold(n_splits=5, shuffle=True, random_state=42)\n",
    "\n",
    "train_accuracies = []\n",
    "val_accuracies = []\n",
    "test_accuracies = []\n",
    "true_labels = []\n",
    "predictions = []\n",
    "\n",
    "for fold, (train_index, test_index) in enumerate(kf.split(X)):\n",
    "    print(f\"Fold {fold + 1}\")\n",
    "\n",
    "    # Splitting into training and test for this fold\n",
    "    X_train_full, X_test = X.iloc[train_index], X.iloc[test_index]\n",
    "    y_train_full, y_test = y_oneHot[train_index], y_oneHot[test_index]\n",
    "    \n",
    "    # Further splitting training data into training and validation (70-15-15)\n",
    "    X_train, X_val, y_train, y_val = train_test_split(X_train_full, y_train_full, test_size=0.3, stratify=y_train_full, random_state=42)\n",
    "    X_val, X_test, y_val, y_test = train_test_split(X_val, y_val, test_size=0.5, stratify=y_val, random_state=42)\n",
    "\n",
    "    # Scaling the data\n",
    "    scaler = MinMaxScaler()\n",
    "    X_train_scaled = scaler.fit_transform(X_train)\n",
    "    X_val_scaled = scaler.transform(X_val)\n",
    "    X_test_scaled = scaler.transform(X_test)\n",
    "\n",
    "    # Training the model\n",
    "    model = LogisticRegression_self(l2_reg=5e-4, max_iter=1000, lr=0.8)\n",
    "    model.fit(X_train_scaled, y_train)\n",
    "\n",
    "    # Plotting the loss for this fold\n",
    "    model.loss_plot()\n",
    "\n",
    "    # Calculating accuracies\n",
    "    train_accuracy = model.accuracy(X_train_scaled, y_train)\n",
    "    val_accuracy = model.accuracy(X_val_scaled, y_val)\n",
    "    test_accuracy = model.accuracy(X_test_scaled, y_test)\n",
    "\n",
    "    print(f\"Training Accuracy: {train_accuracy * 100:.2f}%\")\n",
    "    print(f\"Validation Accuracy: {val_accuracy * 100:.2f}%\")\n",
    "    print(f\"Test Accuracy: {test_accuracy * 100:.2f}%\")\n",
    "\n",
    "    # Predicting on the test set for this fold\n",
    "    y_pred = model.predict(X_test_scaled)\n",
    "    \n",
    "    # Appending true labels and predictions for computing overall classification report\n",
    "    true_labels.extend(np.argmax(y_test, axis=1))\n",
    "    predictions.extend(y_pred)\n",
    "\n",
    "    train_accuracies.append(train_accuracy)\n",
    "    val_accuracies.append(val_accuracy)\n",
    "    test_accuracies.append(test_accuracy)\n"
   ]
  },
  {
   "cell_type": "code",
   "execution_count": 99,
   "metadata": {},
   "outputs": [
    {
     "name": "stdout",
     "output_type": "stream",
     "text": [
      "Average Training Accuracy: 73.68%\n",
      "Average Validation Accuracy: 70.38%\n",
      "Average Test Accuracy: 71.21%\n",
      "Classification Report:\n",
      "              precision    recall  f1-score   support\n",
      "\n",
      "           0       1.00      0.04      0.08       179\n",
      "           1       0.64      0.11      0.19       313\n",
      "           2       0.78      0.58      0.66       595\n",
      "           3       0.71      0.85      0.77      1038\n",
      "           4       0.87      0.28      0.43       294\n",
      "           5       0.53      0.51      0.52      1030\n",
      "           6       0.83      0.46      0.59       455\n",
      "           7       0.83      0.86      0.84      1168\n",
      "           8       0.51      0.10      0.17       259\n",
      "           9       0.70      0.91      0.79      3079\n",
      "          10       0.76      0.41      0.53       211\n",
      "          11       0.88      0.57      0.69       566\n",
      "          12       0.81      0.62      0.70       325\n",
      "          13       0.83      0.91      0.87      2517\n",
      "          14       0.86      0.60      0.71       319\n",
      "          15       0.93      0.14      0.24       200\n",
      "          16       0.54      0.80      0.65      1721\n",
      "          17       0.67      0.30      0.41       398\n",
      "          18       0.75      0.76      0.75       611\n",
      "          19       0.77      0.38      0.51       327\n",
      "\n",
      "    accuracy                           0.71     15605\n",
      "   macro avg       0.76      0.51      0.55     15605\n",
      "weighted avg       0.73      0.71      0.69     15605\n",
      "\n"
     ]
    }
   ],
   "source": [
    "# Average accuracies over all folds\n",
    "avg_train_accuracies = np.mean(train_accuracies) * 100\n",
    "avg_val_accuracies = np.mean(val_accuracies) * 100\n",
    "avg_test_accuracies = np.mean(test_accuracies) * 100\n",
    "print(f\"Average Training Accuracy: {avg_train_accuracies:.2f}%\")\n",
    "print(f\"Average Validation Accuracy: {avg_val_accuracies:.2f}%\")\n",
    "print(f\"Average Test Accuracy: {avg_test_accuracies:.2f}%\")\n",
    "\n",
    "# Calculating and print the classification report\n",
    "print(\"Classification Report:\")\n",
    "avg_cls_report = classification_report(true_labels, predictions)\n",
    "print(avg_cls_report)\n"
   ]
  },
  {
   "cell_type": "markdown",
   "metadata": {},
   "source": [
    "### From Library"
   ]
  },
  {
   "cell_type": "code",
   "execution_count": 119,
   "metadata": {},
   "outputs": [],
   "source": [
    "# Importing models\n",
    "from sklearn.linear_model import LogisticRegression\n",
    "from sklearn.neighbors import KNeighborsClassifier\n",
    "from sklearn.svm import SVC\n",
    "from sklearn.ensemble import RandomForestClassifier\n",
    "\n",
    "from sklearn.metrics import accuracy_score"
   ]
  },
  {
   "cell_type": "markdown",
   "metadata": {},
   "source": [
    "#### Logistic Regression"
   ]
  },
  {
   "cell_type": "code",
   "execution_count": 120,
   "metadata": {},
   "outputs": [],
   "source": [
    "LR = LogisticRegression(max_iter=1000)"
   ]
  },
  {
   "cell_type": "code",
   "execution_count": 121,
   "metadata": {},
   "outputs": [],
   "source": [
    "LR.fit(X_train_scaled_forLib, y_train_forLib)\n",
    "y_pred_lr = LR.predict(X_test_scaled_forLib)"
   ]
  },
  {
   "cell_type": "code",
   "execution_count": 122,
   "metadata": {},
   "outputs": [
    {
     "name": "stdout",
     "output_type": "stream",
     "text": [
      "LR Accuracy: 77.25%\n",
      "              precision    recall  f1-score   support\n",
      "\n",
      "   brazilian       0.75      0.45      0.56        60\n",
      "     british       0.51      0.38      0.44       105\n",
      "cajun_creole       0.78      0.64      0.71       198\n",
      "     chinese       0.78      0.87      0.82       346\n",
      "    filipino       0.69      0.56      0.62        98\n",
      "      french       0.60      0.64      0.62       343\n",
      "       greek       0.81      0.70      0.75       152\n",
      "      indian       0.84      0.89      0.87       389\n",
      "       irish       0.65      0.52      0.58        87\n",
      "     italian       0.79      0.89      0.83      1026\n",
      "    jamaican       0.87      0.57      0.69        70\n",
      "    japanese       0.76      0.74      0.75       188\n",
      "      korean       0.87      0.70      0.78       108\n",
      "     mexican       0.90      0.93      0.92       839\n",
      "    moroccan       0.81      0.70      0.75       107\n",
      "     russian       0.71      0.37      0.49        67\n",
      " southern_us       0.67      0.77      0.72       573\n",
      "     spanish       0.58      0.42      0.49       133\n",
      "        thai       0.81      0.73      0.77       203\n",
      "  vietnamese       0.70      0.54      0.61       109\n",
      "\n",
      "    accuracy                           0.77      5201\n",
      "   macro avg       0.75      0.65      0.69      5201\n",
      "weighted avg       0.77      0.77      0.77      5201\n",
      "\n"
     ]
    }
   ],
   "source": [
    "LR_accuracy = accuracy_score(y_test_forLib,y_pred_lr) * 100\n",
    "print(f\"LR Accuracy: {LR_accuracy:.2f}%\")\n",
    "cls_report_LR = classification_report(y_test_forLib, y_pred_lr)\n",
    "print(cls_report_LR)"
   ]
  },
  {
   "cell_type": "markdown",
   "metadata": {},
   "source": [
    "#### K-Nearest Neighbor"
   ]
  },
  {
   "cell_type": "code",
   "execution_count": 123,
   "metadata": {},
   "outputs": [
    {
     "name": "stdout",
     "output_type": "stream",
     "text": [
      "Predictions: ['mexican' 'mexican' 'japanese' ... 'mexican' 'mexican' 'russian']\n"
     ]
    }
   ],
   "source": [
    "knn_classifier = KNeighborsClassifier(n_neighbors=23)\n",
    "knn_classifier.fit(X_train_scaled_forLib, y_train_forLib)\n",
    "\n",
    "# Predict the labels for the test data\n",
    "y_pred_knn = knn_classifier.predict(X_test_scaled_forLib)\n",
    "print(\"Predictions:\", y_pred_knn)\n"
   ]
  },
  {
   "cell_type": "code",
   "execution_count": 124,
   "metadata": {},
   "outputs": [
    {
     "name": "stdout",
     "output_type": "stream",
     "text": [
      "KNN Accuracy: 62.39%\n",
      "              precision    recall  f1-score   support\n",
      "\n",
      "   brazilian       0.51      0.32      0.39        60\n",
      "     british       0.53      0.20      0.29       105\n",
      "cajun_creole       0.63      0.32      0.43       198\n",
      "     chinese       0.67      0.75      0.71       346\n",
      "    filipino       0.55      0.55      0.55        98\n",
      "      french       0.35      0.52      0.42       343\n",
      "       greek       0.67      0.49      0.56       152\n",
      "      indian       0.73      0.76      0.74       389\n",
      "       irish       0.51      0.44      0.47        87\n",
      "     italian       0.65      0.80      0.72      1026\n",
      "    jamaican       0.60      0.39      0.47        70\n",
      "    japanese       0.84      0.64      0.73       188\n",
      "      korean       0.73      0.54      0.62       108\n",
      "     mexican       0.64      0.89      0.75       839\n",
      "    moroccan       0.79      0.21      0.34       107\n",
      "     russian       0.67      0.06      0.11        67\n",
      " southern_us       0.63      0.60      0.61       573\n",
      "     spanish       0.45      0.07      0.12       133\n",
      "        thai       0.82      0.32      0.46       203\n",
      "  vietnamese       0.40      0.25      0.31       109\n",
      "\n",
      "    accuracy                           0.62      5201\n",
      "   macro avg       0.62      0.46      0.49      5201\n",
      "weighted avg       0.63      0.62      0.60      5201\n",
      "\n"
     ]
    }
   ],
   "source": [
    "KNN_accuracy = accuracy_score(y_test_forLib,y_pred_knn) * 100\n",
    "print(f\"KNN Accuracy: {KNN_accuracy:.2f}%\")\n",
    "cls_report_KNN = classification_report(y_test_forLib, y_pred_knn)\n",
    "print(cls_report_KNN)"
   ]
  },
  {
   "cell_type": "markdown",
   "metadata": {},
   "source": [
    "#### Random Forest"
   ]
  },
  {
   "cell_type": "code",
   "execution_count": 125,
   "metadata": {},
   "outputs": [],
   "source": [
    "rfc = RandomForestClassifier(n_estimators=300)\n",
    "rfc.fit(X_train_scaled_forLib, y_train_forLib)\n",
    "y_pred_rfc = rfc.predict(X_test_scaled_forLib)"
   ]
  },
  {
   "cell_type": "code",
   "execution_count": 126,
   "metadata": {},
   "outputs": [
    {
     "name": "stdout",
     "output_type": "stream",
     "text": [
      "RF Accuracy: 74.77%\n",
      "              precision    recall  f1-score   support\n",
      "\n",
      "   brazilian       0.69      0.40      0.51        60\n",
      "     british       0.80      0.23      0.36       105\n",
      "cajun_creole       0.80      0.62      0.70       198\n",
      "     chinese       0.75      0.90      0.82       346\n",
      "    filipino       0.71      0.50      0.59        98\n",
      "      french       0.57      0.50      0.53       343\n",
      "       greek       0.80      0.64      0.71       152\n",
      "      indian       0.82      0.90      0.86       389\n",
      "       irish       0.73      0.40      0.52        87\n",
      "     italian       0.70      0.92      0.80      1026\n",
      "    jamaican       0.91      0.41      0.57        70\n",
      "    japanese       0.86      0.68      0.76       188\n",
      "      korean       0.93      0.71      0.81       108\n",
      "     mexican       0.84      0.94      0.89       839\n",
      "    moroccan       0.85      0.64      0.73       107\n",
      "     russian       0.79      0.22      0.35        67\n",
      " southern_us       0.65      0.74      0.69       573\n",
      "     spanish       0.85      0.34      0.48       133\n",
      "        thai       0.73      0.75      0.74       203\n",
      "  vietnamese       0.83      0.31      0.45       109\n",
      "\n",
      "    accuracy                           0.75      5201\n",
      "   macro avg       0.78      0.59      0.64      5201\n",
      "weighted avg       0.76      0.75      0.73      5201\n",
      "\n"
     ]
    }
   ],
   "source": [
    "RF_accuracy = accuracy_score(y_test_forLib,y_pred_rfc) * 100\n",
    "print(f\"RF Accuracy: {RF_accuracy:.2f}%\")\n",
    "cls_report_RF = classification_report(y_test_forLib, y_pred_rfc)\n",
    "print(cls_report_RF)"
   ]
  },
  {
   "cell_type": "markdown",
   "metadata": {},
   "source": [
    "#### SVM"
   ]
  },
  {
   "cell_type": "code",
   "execution_count": 127,
   "metadata": {},
   "outputs": [],
   "source": [
    "svm = SVC(kernel='linear', C=1, decision_function_shape='ovr')  # 'ovr' is one-vs-rest strategy\n",
    "svm.fit(X_train_scaled_forLib, y_train_forLib)\n",
    "y_pred_svm = svm.predict(X_test_scaled_forLib)\n"
   ]
  },
  {
   "cell_type": "code",
   "execution_count": 128,
   "metadata": {},
   "outputs": [
    {
     "name": "stdout",
     "output_type": "stream",
     "text": [
      "SVM Accuracy: 76.31%\n",
      "              precision    recall  f1-score   support\n",
      "\n",
      "   brazilian       0.59      0.58      0.59        60\n",
      "     british       0.41      0.37      0.39       105\n",
      "cajun_creole       0.74      0.68      0.71       198\n",
      "     chinese       0.79      0.87      0.83       346\n",
      "    filipino       0.65      0.60      0.62        98\n",
      "      french       0.56      0.64      0.59       343\n",
      "       greek       0.72      0.70      0.71       152\n",
      "      indian       0.85      0.90      0.88       389\n",
      "       irish       0.61      0.55      0.58        87\n",
      "     italian       0.79      0.86      0.82      1026\n",
      "    jamaican       0.88      0.63      0.73        70\n",
      "    japanese       0.76      0.74      0.75       188\n",
      "      korean       0.86      0.70      0.78       108\n",
      "     mexican       0.90      0.91      0.91       839\n",
      "    moroccan       0.82      0.75      0.78       107\n",
      "     russian       0.60      0.31      0.41        67\n",
      " southern_us       0.71      0.73      0.72       573\n",
      "     spanish       0.60      0.42      0.49       133\n",
      "        thai       0.80      0.70      0.75       203\n",
      "  vietnamese       0.68      0.50      0.57       109\n",
      "\n",
      "    accuracy                           0.76      5201\n",
      "   macro avg       0.72      0.66      0.68      5201\n",
      "weighted avg       0.76      0.76      0.76      5201\n",
      "\n"
     ]
    }
   ],
   "source": [
    "SVM_accuracy = accuracy_score(y_test_forLib,y_pred_svm) * 100\n",
    "print(f\"SVM Accuracy: {SVM_accuracy:.2f}%\")\n",
    "cls_report_SVM = classification_report(y_test_forLib, y_pred_svm)\n",
    "print(cls_report_SVM)"
   ]
  },
  {
   "cell_type": "markdown",
   "metadata": {},
   "source": [
    "# Summary"
   ]
  },
  {
   "cell_type": "code",
   "execution_count": 130,
   "metadata": {},
   "outputs": [
    {
     "data": {
      "image/png": "[encoded data removed]",
      "text/plain": [
       "<Figure size 1200x600 with 1 Axes>"
      ]
     },
     "metadata": {},
     "output_type": "display_data"
    }
   ],
   "source": [
    "# Plotting accuracies of Self Logistic regression and other models for comparison\n",
    "\n",
    "accuracies = [avg_test_accuracies ,LR_accuracy, KNN_accuracy, RF_accuracy, SVM_accuracy]\n",
    "models = ['Logistic Regression self', 'Logistic Regression', 'KNN', 'Random Forest', 'SVM']\n",
    "\n",
    "# Plotting\n",
    "plt.figure(figsize=(12, 6))\n",
    "plt.bar(range(len(models)), accuracies, color=['blue', 'green', 'orange', 'red', 'yellow'])\n",
    "plt.xlabel('Models')\n",
    "plt.ylabel('Accuracy')\n",
    "plt.title('Comparison of Model Accuracies')\n",
    "plt.ylim(0, 100)\n",
    "plt.xticks(range(len(models)), models, rotation=0) \n",
    "plt.tight_layout()\n",
    "\n",
    "# Display the plot\n",
    "plt.show()"
   ]
  }
 ],
 "metadata": {
  "kernelspec": {
   "display_name": "Python 3",
   "language": "python",
   "name": "python3"
  },
  "language_info": {
   "codemirror_mode": {
    "name": "ipython",
    "version": 3
   },
   "file_extension": ".py",
   "mimetype": "text/x-python",
   "name": "python",
   "nbconvert_exporter": "python",
   "pygments_lexer": "ipython3",
   "version": "3.12.2"
  }
 },
 "nbformat": 4,
 "nbformat_minor": 2
}
